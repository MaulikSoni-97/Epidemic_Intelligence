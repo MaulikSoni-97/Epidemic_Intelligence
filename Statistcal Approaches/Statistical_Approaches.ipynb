{
  "nbformat": 4,
  "nbformat_minor": 0,
  "metadata": {
    "colab": {
      "name": "Ir_Project_P_2.ipynb",
      "provenance": [],
      "collapsed_sections": [],
      "toc_visible": true
    },
    "kernelspec": {
      "name": "python3",
      "display_name": "Python 3"
    }
  },
  "cells": [
    {
      "cell_type": "code",
      "metadata": {
        "id": "F6EEvqz8j22n",
        "colab_type": "code",
        "colab": {}
      },
      "source": [
        "import pandas as pd\n",
        "import numpy as np"
      ],
      "execution_count": 0,
      "outputs": []
    },
    {
      "cell_type": "markdown",
      "metadata": {
        "id": "pJGp6ylydNrd",
        "colab_type": "text"
      },
      "source": [
        "# Enter Path here"
      ]
    },
    {
      "cell_type": "code",
      "metadata": {
        "id": "Ft0ZP9HhTcxe",
        "colab_type": "code",
        "colab": {}
      },
      "source": [
        "train = pd.read_pickle('path to train.pkl')\n",
        "test = pd.read_pickle('path to test.pkl')"
      ],
      "execution_count": 0,
      "outputs": []
    },
    {
      "cell_type": "code",
      "metadata": {
        "id": "BAl2s7o55LRy",
        "colab_type": "code",
        "colab": {}
      },
      "source": [
        "def getTweetAndLabel(df):\n",
        "    tweet = []\n",
        "    label = []\n",
        "    for i in range(len(df)):\n",
        "        tweet.append(str(df.iloc[i,0]))\n",
        "        label.append(list(df.iloc[i,1:]))\n",
        "    return tweet,label\n",
        "\n",
        "    \n",
        "x_train,y_train=getTweetAndLabel(train)\n",
        "x_test,y_test=getTweetAndLabel(test)"
      ],
      "execution_count": 0,
      "outputs": []
    },
    {
      "cell_type": "markdown",
      "metadata": {
        "id": "fFE-bG09Wcxl",
        "colab_type": "text"
      },
      "source": [
        "# Statistics"
      ]
    },
    {
      "cell_type": "code",
      "metadata": {
        "id": "pMImKYXdkzEp",
        "colab_type": "code",
        "outputId": "ed1ad5f0-f55c-4044-a101-4c0accfbe320",
        "colab": {
          "base_uri": "https://localhost:8080/",
          "height": 54
        }
      },
      "source": [
        "stat = [0 for _ in range(8)]\n",
        "for i in range(len(train)):\n",
        "  for j in range(8):\n",
        "    if train.iloc[i,j+1] == 1:\n",
        "      stat[j]+=1\n",
        "\n",
        "stat.append(len(train))\n",
        "print(\"Total possible disease present per class out of total length\")\n",
        "categories = ['Influenza', 'Diarrhea', 'Hayfever', 'Cough', 'Headache',\n",
        "              'Fever', 'Runnynose', 'Cold','Total']\n",
        "stat"
      ],
      "execution_count": 16,
      "outputs": [
        {
          "output_type": "stream",
          "text": [
            "Total possible disease present per class out of total length\n"
          ],
          "name": "stdout"
        },
        {
          "output_type": "execute_result",
          "data": {
            "text/plain": [
              "[106, 182, 163, 227, 251, 345, 375, 265, 1920]"
            ]
          },
          "metadata": {
            "tags": []
          },
          "execution_count": 16
        }
      ]
    },
    {
      "cell_type": "code",
      "metadata": {
        "id": "D95EosIolZnh",
        "colab_type": "code",
        "colab": {
          "base_uri": "https://localhost:8080/",
          "height": 497
        },
        "outputId": "25b2a8e4-5bb8-4d2c-c4b3-0a8e528f7526"
      },
      "source": [
        "import matplotlib.pyplot as plt\n",
        "plt.figure(figsize=(12,8))\n",
        "plt.bar(categories,stat,color=['yellow','blue'])\n",
        "plt.xlabel('Disease and Total at last')\n",
        "plt.ylabel('Frequency of occurence')\n",
        "plt.show()"
      ],
      "execution_count": 18,
      "outputs": [
        {
          "output_type": "display_data",
          "data": {
            "image/png": "[encoded data removed]",
            "text/plain": [
              "<Figure size 864x576 with 1 Axes>"
            ]
          },
          "metadata": {
            "tags": [],
            "needs_background": "light"
          }
        }
      ]
    },
    {
      "cell_type": "code",
      "metadata": {
        "id": "1BZbgP9svPx1",
        "colab_type": "code",
        "colab": {}
      },
      "source": [
        "tweets = list(train['Tweet'])\n",
        "test_tweets = list(test['Tweet'])"
      ],
      "execution_count": 0,
      "outputs": []
    },
    {
      "cell_type": "markdown",
      "metadata": {
        "id": "t9619GGlxA84",
        "colab_type": "text"
      },
      "source": [
        "# Preprocessing"
      ]
    },
    {
      "cell_type": "code",
      "metadata": {
        "id": "VmPCOetUxjBj",
        "colab_type": "code",
        "outputId": "3dfbdf3f-b386-4b10-bdab-71177f2f106d",
        "colab": {
          "base_uri": "https://localhost:8080/",
          "height": 108
        }
      },
      "source": [
        "import nltk\n",
        "nltk.download('punkt')\n",
        "nltk.download('stopwords')"
      ],
      "execution_count": 20,
      "outputs": [
        {
          "output_type": "stream",
          "text": [
            "[nltk_data] Downloading package punkt to /root/nltk_data...\n",
            "[nltk_data]   Unzipping tokenizers/punkt.zip.\n",
            "[nltk_data] Downloading package stopwords to /root/nltk_data...\n",
            "[nltk_data]   Unzipping corpora/stopwords.zip.\n"
          ],
          "name": "stdout"
        },
        {
          "output_type": "execute_result",
          "data": {
            "text/plain": [
              "True"
            ]
          },
          "metadata": {
            "tags": []
          },
          "execution_count": 20
        }
      ]
    },
    {
      "cell_type": "code",
      "metadata": {
        "id": "n78C5cUaw_FO",
        "colab_type": "code",
        "colab": {}
      },
      "source": [
        "import re\n",
        "from nltk.corpus import stopwords \n",
        "from nltk.tokenize import word_tokenize\n",
        "from nltk.stem import PorterStemmer\n",
        "# from nltk.stem import WordNetLemmatizer\n",
        "\n",
        "stop_words = set(stopwords.words('english'))"
      ],
      "execution_count": 0,
      "outputs": []
    },
    {
      "cell_type": "code",
      "metadata": {
        "id": "8ZE0zHJSxwhW",
        "colab_type": "code",
        "colab": {}
      },
      "source": [
        "def decontracted(paragraph):\n",
        "    # specific\n",
        "    paragraph = re.sub(r\"won\\'t\", \"will not\", paragraph)\n",
        "    paragraph = re.sub(r\"can\\'t\", \"can not\", paragraph)\n",
        "\n",
        "    # general\n",
        "    paragraph = re.sub(r\"n\\'t\", \" not\", paragraph)\n",
        "    paragraph = re.sub(r\"\\'re\", \" are\", paragraph)\n",
        "    paragraph = re.sub(r\"\\'s\", \" is\", paragraph)\n",
        "    paragraph = re.sub(r\"\\'d\", \" would\", paragraph)\n",
        "    paragraph = re.sub(r\"\\'ll\", \" will\", paragraph)\n",
        "    paragraph = re.sub(r\"\\'t\", \" not\", paragraph)\n",
        "    paragraph = re.sub(r\"\\'ve\", \" have\", paragraph)\n",
        "    paragraph = re.sub(r\"\\'m\", \" am\", paragraph)\n",
        "    return paragraph\n",
        "\n",
        "def rmPunctuationAndNumberAndLower(paragraph):\n",
        "    paragraph = re.sub(\"<.*?>\",\"\",paragraph) \n",
        "    paragraph = re.sub(\"[@!-\\?.:;/+*$,/()\\n]\",\" \",paragraph)\n",
        "    paragraph = re.sub(\"[-]\",\" \",paragraph)\n",
        "    paragraph = re.sub(\"\\[\",\" \",paragraph)\n",
        "    paragraph = re.sub(\"\\]\",\" \",paragraph)\n",
        "    paragraph = re.sub('[0-9]',\"\",paragraph)\n",
        "    paragraph = paragraph.lower()\n",
        "    return paragraph\n",
        "\n",
        "def Tokenization(paragraph):\n",
        "    paragraph = word_tokenize(paragraph)\n",
        "    return paragraph\n",
        "\n",
        "def rmStopwords(paragraph):\n",
        "    tempList = [words for words in paragraph if  words not in stop_words]\n",
        "    return tempList\n",
        "\n",
        "def stemming(paragraph):\n",
        "    ps = PorterStemmer()\n",
        "    newList = []\n",
        "    for word in paragraph:\n",
        "        # print(word)\n",
        "        newList.append(ps.stem(word))\n",
        "    paragraph = newList\n",
        "    return paragraph\n",
        "\n",
        "def joinToken(paragraph):\n",
        "    return ' '.join(paragraph)\n",
        "\n"
      ],
      "execution_count": 0,
      "outputs": []
    },
    {
      "cell_type": "code",
      "metadata": {
        "id": "4ys6DlDmyKj7",
        "colab_type": "code",
        "colab": {}
      },
      "source": [
        "def preprocessing(paragraph):\n",
        "    \n",
        "    paragraph = rmPunctuationAndNumberAndLower(paragraph)\n",
        "    paragraph = decontracted(paragraph)\n",
        "    paragraph = Tokenization(paragraph)\n",
        "    paragraph = rmStopwords(paragraph)\n",
        "    paragraph = stemming(paragraph)\n",
        "    paragraph.sort()  #alphabetical order\n",
        "    paragraph = joinToken(paragraph)\n",
        "    return paragraph\n",
        "\n",
        "# tweets = preprocessing(tweets)\n",
        "for i in range(len(tweets)):\n",
        "  tweets[i] = preprocessing(tweets[i])\n",
        "for i in range(len(test_tweets)):\n",
        "  test_tweets[i] = preprocessing(test_tweets[i])"
      ],
      "execution_count": 0,
      "outputs": []
    },
    {
      "cell_type": "code",
      "metadata": {
        "id": "mM41ln-C6cXN",
        "colab_type": "code",
        "colab": {}
      },
      "source": [
        "from sklearn.feature_extraction.text import TfidfVectorizer\n",
        "from sklearn.metrics import accuracy_score\n",
        "from sklearn.multiclass import OneVsRestClassifier\n",
        "from sklearn.svm import LinearSVC\n",
        "from sklearn.linear_model import LogisticRegression\n",
        "from sklearn.pipeline import Pipeline"
      ],
      "execution_count": 0,
      "outputs": []
    },
    {
      "cell_type": "markdown",
      "metadata": {
        "id": "VqL5hvn-WPiq",
        "colab_type": "text"
      },
      "source": [
        "# One-vs-Rest Support vector classifier"
      ]
    },
    {
      "cell_type": "code",
      "metadata": {
        "id": "DV3mKbgK2lAg",
        "colab_type": "code",
        "colab": {}
      },
      "source": [
        "SVC_pipeline = Pipeline([\n",
        "                ('tfidf', TfidfVectorizer(stop_words=stop_words)),\n",
        "                ('clf', OneVsRestClassifier(LinearSVC(), n_jobs=1)),\n",
        "            ])"
      ],
      "execution_count": 0,
      "outputs": []
    },
    {
      "cell_type": "code",
      "metadata": {
        "id": "mWM-vh3L50eT",
        "colab_type": "code",
        "outputId": "ed53805d-8f25-48c8-cf91-12363eb03b0e",
        "colab": {
          "base_uri": "https://localhost:8080/",
          "height": 308
        }
      },
      "source": [
        "multiclass_pred = []\n",
        "for category in categories[:8]:\n",
        "    print('... Processing {}'.format(category))\n",
        "    # train the model using X_dtm & y\n",
        "    SVC_pipeline.fit(tweets, list(train[category]))\n",
        "    # compute the testing accuracy\n",
        "    prediction = SVC_pipeline.predict(test_tweets)\n",
        "    multiclass_pred.append(prediction)\n",
        "    print('Test accuracy is {}'.format(accuracy_score(list(test[category]), prediction)))"
      ],
      "execution_count": 26,
      "outputs": [
        {
          "output_type": "stream",
          "text": [
            "... Processing Influenza\n",
            "Test accuracy is 0.971875\n",
            "... Processing Diarrhea\n",
            "Test accuracy is 0.9796875\n",
            "... Processing Hayfever\n",
            "Test accuracy is 0.9765625\n",
            "... Processing Cough\n",
            "Test accuracy is 0.984375\n",
            "... Processing Headache\n",
            "Test accuracy is 0.98125\n",
            "... Processing Fever\n",
            "Test accuracy is 0.946875\n",
            "... Processing Runnynose\n",
            "Test accuracy is 0.9296875\n",
            "... Processing Cold\n",
            "Test accuracy is 0.95625\n"
          ],
          "name": "stdout"
        }
      ]
    },
    {
      "cell_type": "code",
      "metadata": {
        "id": "R4cczSrKO8U4",
        "colab_type": "code",
        "outputId": "c3d8f621-50e7-40d5-8d4e-58a5379f26ab",
        "colab": {
          "base_uri": "https://localhost:8080/",
          "height": 54
        }
      },
      "source": [
        "for i in range(8):\n",
        "    multiclass_pred[i] = np.array(multiclass_pred[i])\n",
        "\n",
        "multiclass_pred=np.array(multiclass_pred)\n",
        "multiclass_pred_trans = multiclass_pred.transpose()\n",
        "\n",
        "ExactMatch = 0\n",
        "for i in range(len(test)):\n",
        "  correctCount = 0\n",
        "  for j in range(1,9):\n",
        "    if multiclass_pred_trans[i][j-1] == test.iloc[i,j]:\n",
        "      correctCount+=1\n",
        "  if correctCount == 8:\n",
        "    ExactMatch += 1\n",
        "print(\"Exact match accuracy:\")\n",
        "(ExactMatch/len(test))*100"
      ],
      "execution_count": 29,
      "outputs": [
        {
          "output_type": "stream",
          "text": [
            "Exact match accuracy:\n"
          ],
          "name": "stdout"
        },
        {
          "output_type": "execute_result",
          "data": {
            "text/plain": [
              "77.1875"
            ]
          },
          "metadata": {
            "tags": []
          },
          "execution_count": 29
        }
      ]
    },
    {
      "cell_type": "markdown",
      "metadata": {
        "id": "KBv5dWJtW6h_",
        "colab_type": "text"
      },
      "source": [
        "# Label Power set method"
      ]
    },
    {
      "cell_type": "code",
      "metadata": {
        "id": "m13T7hZ_8XVA",
        "colab_type": "code",
        "outputId": "3fdc007c-ad49-45d2-d195-2f34284059b3",
        "colab": {
          "base_uri": "https://localhost:8080/",
          "height": 128
        }
      },
      "source": [
        "!pip install scikit-multilearn"
      ],
      "execution_count": 32,
      "outputs": [
        {
          "output_type": "stream",
          "text": [
            "Collecting scikit-multilearn\n",
            "\u001b[?25l  Downloading https://files.pythonhosted.org/packages/bb/1f/e6ff649c72a1cdf2c7a1d31eb21705110ce1c5d3e7e26b2cc300e1637272/scikit_multilearn-0.2.0-py3-none-any.whl (89kB)\n",
            "\r\u001b[K     |███▊                            | 10kB 16.0MB/s eta 0:00:01\r\u001b[K     |███████▍                        | 20kB 1.8MB/s eta 0:00:01\r\u001b[K     |███████████                     | 30kB 2.4MB/s eta 0:00:01\r\u001b[K     |██████████████▊                 | 40kB 3.1MB/s eta 0:00:01\r\u001b[K     |██████████████████▍             | 51kB 2.1MB/s eta 0:00:01\r\u001b[K     |██████████████████████          | 61kB 2.4MB/s eta 0:00:01\r\u001b[K     |█████████████████████████▊      | 71kB 2.8MB/s eta 0:00:01\r\u001b[K     |█████████████████████████████▍  | 81kB 3.1MB/s eta 0:00:01\r\u001b[K     |████████████████████████████████| 92kB 2.8MB/s \n",
            "\u001b[?25hInstalling collected packages: scikit-multilearn\n",
            "Successfully installed scikit-multilearn-0.2.0\n"
          ],
          "name": "stdout"
        }
      ]
    },
    {
      "cell_type": "code",
      "metadata": {
        "id": "iXn722FI-gBc",
        "colab_type": "code",
        "colab": {}
      },
      "source": [
        "vectorizer = TfidfVectorizer(stop_words=stop_words)\n",
        "vectors = vectorizer.fit_transform(tweets)\n",
        "testVectors = vectorizer.transform(test_tweets)"
      ],
      "execution_count": 0,
      "outputs": []
    },
    {
      "cell_type": "code",
      "metadata": {
        "id": "hcr2BrEpXhAZ",
        "colab_type": "code",
        "colab": {}
      },
      "source": [
        "# this method require label value 0 and 1 instead on -1 and 1.\n",
        "y_train_copy = y_train.copy()\n",
        "y_train = []\n",
        "\n",
        "for i in range(len(y_train_copy)):\n",
        "    temp = []\n",
        "    for j in range(len(y_train_copy[i])):\n",
        "        if int(y_train_copy[i][j]) == 1:\n",
        "            temp.append(int(y_train_copy[i][j]))\n",
        "        else:\n",
        "            temp.append(0)\n",
        "    y_train.append(np.array(temp))\n",
        "\n",
        "y_train = np.array(y_train)\n",
        "\n",
        "y_test_copy = y_test.copy()\n",
        "y_test = []\n",
        "\n",
        "for i in range(len(y_test_copy)):\n",
        "    temp = []\n",
        "    for j in range(len(y_test_copy[i])):\n",
        "        if int(y_test_copy[i][j]) == 1:\n",
        "            temp.append(int(y_test_copy[i][j]))\n",
        "        else:\n",
        "            temp.append(0)\n",
        "    y_test.append(np.array(temp))\n",
        "    \n",
        "y_test = np.array(y_test)"
      ],
      "execution_count": 0,
      "outputs": []
    },
    {
      "cell_type": "code",
      "metadata": {
        "id": "VWm3XS5GAYgO",
        "colab_type": "code",
        "outputId": "33caac56-abba-40a0-b393-c22a74468949",
        "colab": {
          "base_uri": "https://localhost:8080/",
          "height": 72
        }
      },
      "source": [
        "# using Label Powerset\n",
        "from skmultilearn.problem_transform import LabelPowerset\n",
        "# initialize label powerset multi-label classifier\n",
        "classifier = LabelPowerset(LogisticRegression())\n",
        "# train\n",
        "classifier.fit(vectors, y_train)\n",
        "# predict\n",
        "predictions = classifier.predict(testVectors)\n",
        "# accuracy\n",
        "print(\"Accuracy = \",accuracy_score(y_test,predictions))"
      ],
      "execution_count": 58,
      "outputs": [
        {
          "output_type": "stream",
          "text": [
            "Accuracy =  0.7515625\n",
            "\n",
            "\n"
          ],
          "name": "stdout"
        }
      ]
    }
  ]
}